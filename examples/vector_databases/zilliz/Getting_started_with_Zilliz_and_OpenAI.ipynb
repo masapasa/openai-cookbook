{
 "cells": [
  {
   "attachments": {},
   "cell_type": "markdown",
   "metadata": {},
   "source": [
    "# Getting Started with Zilliz and OpenAI\n",
    "### Finding your next book\n",
    "\n",
    "In this notebook we will be going over generating embeddings of book descriptions with OpenAI and using those embeddings within Zilliz to find relevant books. The dataset in this example is sourced from HuggingFace datasets, and contains a little over 1 million title-description pairs.\n",
    "\n",
    "Lets begin by first downloading the required libraries for this notebook:\n",
    "- `openai` is used for communicating with the OpenAI embedding service\n",
    "- `pymilvus` is used for communicating with the Zilliz instance\n",
    "- `datasets` is used for downloading the dataset\n",
    "- `tqdm` is used for the progress bars\n"
   ]
  },
  {
   "cell_type": "code",
   "execution_count": 1,
   "metadata": {},
   "outputs": [
    {
     "name": "stdout",
     "output_type": "stream",
     "text": [
      "Requirement already satisfied: openai in /Users/aswin/miniconda3/envs/fast/lib/python3.10/site-packages (0.27.2)\n",
      "Collecting pymilvus\n",
      "  Downloading pymilvus-2.2.4-py3-none-any.whl (128 kB)\n",
      "\u001b[2K     \u001b[90m━━━━━━━━━━━━━━━━━━━━━━━━━━━━━━━━━━━━━\u001b[0m \u001b[32m129.0/129.0 kB\u001b[0m \u001b[31m483.4 kB/s\u001b[0m eta \u001b[36m0:00:00\u001b[0ma \u001b[36m0:00:01\u001b[0m\n",
      "\u001b[?25hRequirement already satisfied: datasets in /Users/aswin/miniconda3/envs/fast/lib/python3.10/site-packages (2.7.1)\n",
      "Requirement already satisfied: tqdm in /Users/aswin/miniconda3/envs/fast/lib/python3.10/site-packages (4.64.1)\n",
      "Requirement already satisfied: aiohttp in /Users/aswin/miniconda3/envs/fast/lib/python3.10/site-packages (from openai) (3.8.3)\n",
      "Requirement already satisfied: requests>=2.20 in /Users/aswin/miniconda3/envs/fast/lib/python3.10/site-packages (from openai) (2.28.1)\n",
      "Collecting ujson<=5.4.0,>=2.0.0\n",
      "  Downloading ujson-5.4.0-cp310-cp310-macosx_11_0_arm64.whl (44 kB)\n",
      "\u001b[2K     \u001b[90m━━━━━━━━━━━━━━━━━━━━━━━━━━━━━━━━━━━━━━━\u001b[0m \u001b[32m44.6/44.6 kB\u001b[0m \u001b[31m545.0 kB/s\u001b[0m eta \u001b[36m0:00:00\u001b[0ma \u001b[36m0:00:01\u001b[0m\n",
      "\u001b[?25hCollecting mmh3<=3.0.0,>=2.0\n",
      "  Downloading mmh3-3.0.0.tar.gz (10 kB)\n",
      "  Preparing metadata (setup.py) ... \u001b[?25ldone\n",
      "\u001b[?25hRequirement already satisfied: pandas>=1.2.4 in /Users/aswin/miniconda3/envs/fast/lib/python3.10/site-packages (from pymilvus) (1.5.3)\n",
      "Collecting grpcio<=1.48.0,>=1.47.0\n",
      "  Downloading grpcio-1.47.5-cp310-cp310-macosx_12_0_universal2.whl (7.6 MB)\n",
      "\u001b[2K     \u001b[90m━━━━━━━━━━━━━━━━━━━━━━━━━━━━━━━━━━━━━━━━\u001b[0m \u001b[32m7.6/7.6 MB\u001b[0m \u001b[31m483.7 kB/s\u001b[0m eta \u001b[36m0:00:00\u001b[0m00:01\u001b[0m00:01\u001b[0m\n",
      "\u001b[?25hCollecting grpcio-tools<=1.48.0,>=1.47.0\n",
      "  Downloading grpcio_tools-1.47.5-cp310-cp310-macosx_12_0_universal2.whl (4.0 MB)\n",
      "\u001b[2K     \u001b[90m━━━━━━━━━━━━━━━━━━━━━━━━━━━━━━━━━━━━━━━━\u001b[0m \u001b[32m4.0/4.0 MB\u001b[0m \u001b[31m484.0 kB/s\u001b[0m eta \u001b[36m0:00:00\u001b[0m00:01\u001b[0m00:01\u001b[0m\n",
      "\u001b[?25hRequirement already satisfied: fsspec[http]>=2021.11.1 in /Users/aswin/miniconda3/envs/fast/lib/python3.10/site-packages (from datasets) (2022.11.0)\n",
      "Requirement already satisfied: huggingface-hub<1.0.0,>=0.2.0 in /Users/aswin/miniconda3/envs/fast/lib/python3.10/site-packages (from datasets) (0.11.1)\n",
      "Requirement already satisfied: pyyaml>=5.1 in /Users/aswin/miniconda3/envs/fast/lib/python3.10/site-packages (from datasets) (6.0)\n",
      "Requirement already satisfied: packaging in /Users/aswin/miniconda3/envs/fast/lib/python3.10/site-packages (from datasets) (21.3)\n",
      "Requirement already satisfied: pyarrow>=6.0.0 in /Users/aswin/miniconda3/envs/fast/lib/python3.10/site-packages (from datasets) (7.0.0)\n",
      "Requirement already satisfied: xxhash in /Users/aswin/miniconda3/envs/fast/lib/python3.10/site-packages (from datasets) (3.1.0)\n",
      "Requirement already satisfied: multiprocess in /Users/aswin/miniconda3/envs/fast/lib/python3.10/site-packages (from datasets) (0.70.14)\n",
      "Requirement already satisfied: responses<0.19 in /Users/aswin/miniconda3/envs/fast/lib/python3.10/site-packages (from datasets) (0.18.0)\n",
      "Requirement already satisfied: numpy>=1.17 in /Users/aswin/miniconda3/envs/fast/lib/python3.10/site-packages (from datasets) (1.23.5)\n",
      "Requirement already satisfied: dill<0.3.7 in /Users/aswin/miniconda3/envs/fast/lib/python3.10/site-packages (from datasets) (0.3.6)\n",
      "Requirement already satisfied: charset-normalizer<3.0,>=2.0 in /Users/aswin/miniconda3/envs/fast/lib/python3.10/site-packages (from aiohttp->openai) (2.1.1)\n",
      "Requirement already satisfied: async-timeout<5.0,>=4.0.0a3 in /Users/aswin/miniconda3/envs/fast/lib/python3.10/site-packages (from aiohttp->openai) (4.0.2)\n",
      "Requirement already satisfied: multidict<7.0,>=4.5 in /Users/aswin/miniconda3/envs/fast/lib/python3.10/site-packages (from aiohttp->openai) (6.0.2)\n",
      "Requirement already satisfied: yarl<2.0,>=1.0 in /Users/aswin/miniconda3/envs/fast/lib/python3.10/site-packages (from aiohttp->openai) (1.8.1)\n",
      "Requirement already satisfied: aiosignal>=1.1.2 in /Users/aswin/miniconda3/envs/fast/lib/python3.10/site-packages (from aiohttp->openai) (1.3.1)\n",
      "Requirement already satisfied: frozenlist>=1.1.1 in /Users/aswin/miniconda3/envs/fast/lib/python3.10/site-packages (from aiohttp->openai) (1.3.3)\n",
      "Requirement already satisfied: attrs>=17.3.0 in /Users/aswin/miniconda3/envs/fast/lib/python3.10/site-packages (from aiohttp->openai) (22.1.0)\n",
      "Requirement already satisfied: six>=1.5.2 in /Users/aswin/miniconda3/envs/fast/lib/python3.10/site-packages (from grpcio<=1.48.0,>=1.47.0->pymilvus) (1.16.0)\n",
      "Requirement already satisfied: setuptools in /Users/aswin/miniconda3/envs/fast/lib/python3.10/site-packages (from grpcio-tools<=1.48.0,>=1.47.0->pymilvus) (65.5.0)\n",
      "Collecting protobuf<4.0dev,>=3.12.0\n",
      "  Using cached protobuf-3.20.3-py2.py3-none-any.whl (162 kB)\n",
      "Requirement already satisfied: typing-extensions>=3.7.4.3 in /Users/aswin/miniconda3/envs/fast/lib/python3.10/site-packages (from huggingface-hub<1.0.0,>=0.2.0->datasets) (4.4.0)\n",
      "Requirement already satisfied: filelock in /Users/aswin/miniconda3/envs/fast/lib/python3.10/site-packages (from huggingface-hub<1.0.0,>=0.2.0->datasets) (3.8.0)\n",
      "Requirement already satisfied: pyparsing!=3.0.5,>=2.0.2 in /Users/aswin/miniconda3/envs/fast/lib/python3.10/site-packages (from packaging->datasets) (3.0.9)\n",
      "Requirement already satisfied: python-dateutil>=2.8.1 in /Users/aswin/miniconda3/envs/fast/lib/python3.10/site-packages (from pandas>=1.2.4->pymilvus) (2.8.2)\n",
      "Requirement already satisfied: pytz>=2020.1 in /Users/aswin/miniconda3/envs/fast/lib/python3.10/site-packages (from pandas>=1.2.4->pymilvus) (2022.7.1)\n",
      "Requirement already satisfied: idna<4,>=2.5 in /Users/aswin/miniconda3/envs/fast/lib/python3.10/site-packages (from requests>=2.20->openai) (3.4)\n",
      "Requirement already satisfied: urllib3<1.27,>=1.21.1 in /Users/aswin/miniconda3/envs/fast/lib/python3.10/site-packages (from requests>=2.20->openai) (1.26.13)\n",
      "Requirement already satisfied: certifi>=2017.4.17 in /Users/aswin/miniconda3/envs/fast/lib/python3.10/site-packages (from requests>=2.20->openai) (2021.10.8)\n",
      "Building wheels for collected packages: mmh3\n",
      "  Building wheel for mmh3 (setup.py) ... \u001b[?25ldone\n",
      "\u001b[?25h  Created wheel for mmh3: filename=mmh3-3.0.0-cp310-cp310-macosx_11_0_arm64.whl size=10045 sha256=9dd6a27e66e3b9b84e59e1d0f7d70e2f3a4d8856ea63fa571a2de9dd5947819d\n",
      "  Stored in directory: /Users/aswin/Library/Caches/pip/wheels/01/5e/f4/ea9f16c5ab10dc5596f497b829ec654c7e48f4f5d1a5c4c97a\n",
      "Successfully built mmh3\n",
      "Installing collected packages: mmh3, ujson, protobuf, grpcio, grpcio-tools, pymilvus\n",
      "  Attempting uninstall: protobuf\n",
      "    Found existing installation: protobuf 4.22.1\n",
      "    Uninstalling protobuf-4.22.1:\n",
      "      Successfully uninstalled protobuf-4.22.1\n",
      "  Attempting uninstall: grpcio\n",
      "    Found existing installation: grpcio 1.51.3\n",
      "    Uninstalling grpcio-1.51.3:\n",
      "      Successfully uninstalled grpcio-1.51.3\n",
      "  Attempting uninstall: grpcio-tools\n",
      "    Found existing installation: grpcio-tools 1.51.3\n",
      "    Uninstalling grpcio-tools-1.51.3:\n",
      "      Successfully uninstalled grpcio-tools-1.51.3\n",
      "\u001b[31mERROR: pip's dependency resolver does not currently take into account all the packages that are installed. This behaviour is the source of the following dependency conflicts.\n",
      "tensorflow-macos 2.11.0 requires protobuf<3.20,>=3.9.2, but you have protobuf 3.20.3 which is incompatible.\n",
      "grpcio-status 1.48.2 requires grpcio>=1.48.2, but you have grpcio 1.47.5 which is incompatible.\n",
      "apache-beam 2.42.0 requires dill<0.3.2,>=0.3.1.1, but you have dill 0.3.6 which is incompatible.\n",
      "apache-beam 2.42.0 requires numpy<1.23.0,>=1.14.3, but you have numpy 1.23.5 which is incompatible.\u001b[0m\u001b[31m\n",
      "\u001b[0mSuccessfully installed grpcio-1.47.5 grpcio-tools-1.47.5 mmh3-3.0.0 protobuf-3.20.3 pymilvus-2.2.4 ujson-5.4.0\n"
     ]
    }
   ],
   "source": [
    "! pip install openai pymilvus datasets tqdm"
   ]
  },
  {
   "attachments": {},
   "cell_type": "markdown",
   "metadata": {},
   "source": [
    "To get Zilliz up and running take a look [here](https://zilliz.com/doc/quick_start). With your account and database set up, proceed to set the following values:\n",
    "- URI: The URI your database is running on\n",
    "- USER: Your database username\n",
    "- PASSWORD: Your database password\n",
    "- COLLECTION_NAME: What to name the collection within Zilliz\n",
    "- DIMENSION: The dimension of the embeddings\n",
    "- OPENAI_ENGINE: Which embedding model to use\n",
    "- openai.api_key: Your OpenAI account key\n",
    "- INDEX_PARAM: The index settings to use for the collection\n",
    "- QUERY_PARAM: The search parameters to use\n",
    "- BATCH_SIZE: How many texts to embed and insert at once"
   ]
  },
  {
   "cell_type": "code",
   "execution_count": 1,
   "metadata": {},
   "outputs": [],
   "source": [
    "import openai\n",
    "import os\n",
    "\n",
    "URI = 'https://in01-ddd79bfa2d22447.aws-us-west-2.vectordb.zillizcloud.com:19542'\n",
    "USER = 'masa'\n",
    "PASSWORD = 'Masapasa1.'\n",
    "COLLECTION_NAME = 'book_search'\n",
    "DIMENSION = 1536\n",
    "OPENAI_ENGINE = 'text-embedding-ada-002'\n",
    "openai.api_key = os.environ['OPENAI_API_KEY']\n",
    "\n",
    "INDEX_PARAM = {\n",
    "    'metric_type':'L2',\n",
    "    'index_type':\"AUTOINDEX\",\n",
    "    'params':{}\n",
    "}\n",
    "\n",
    "QUERY_PARAM = {\n",
    "    \"metric_type\": \"L2\",\n",
    "    \"params\": {},\n",
    "}\n",
    "\n",
    "BATCH_SIZE = 1000"
   ]
  },
  {
   "attachments": {},
   "cell_type": "markdown",
   "metadata": {},
   "source": [
    "## Zilliz\n",
    "This segment deals with Zilliz and setting up the database for this use case. Within Zilliz we need to setup a collection and index it."
   ]
  },
  {
   "cell_type": "code",
   "execution_count": 2,
   "metadata": {},
   "outputs": [
    {
     "ename": "MilvusException",
     "evalue": "<MilvusException: (code=2, message=Fail connecting to server on in01-ddd79bfa2d22447.aws-us-west-2.vectordb.zillizcloud.com:19542. Timeout)>",
     "output_type": "error",
     "traceback": [
      "\u001b[0;31m---------------------------------------------------------------------------\u001b[0m",
      "\u001b[0;31mFutureTimeoutError\u001b[0m                        Traceback (most recent call last)",
      "File \u001b[0;32m~/miniconda3/envs/fast/lib/python3.10/site-packages/pymilvus/client/grpc_handler.py:114\u001b[0m, in \u001b[0;36mGrpcHandler._wait_for_channel_ready\u001b[0;34m(self, timeout)\u001b[0m\n\u001b[1;32m    113\u001b[0m \u001b[39mtry\u001b[39;00m:\n\u001b[0;32m--> 114\u001b[0m     grpc\u001b[39m.\u001b[39;49mchannel_ready_future(\u001b[39mself\u001b[39;49m\u001b[39m.\u001b[39;49m_channel)\u001b[39m.\u001b[39;49mresult(timeout\u001b[39m=\u001b[39;49mtimeout)\n\u001b[1;32m    115\u001b[0m     \u001b[39mreturn\u001b[39;00m\n",
      "File \u001b[0;32m~/miniconda3/envs/fast/lib/python3.10/site-packages/grpc/_utilities.py:139\u001b[0m, in \u001b[0;36m_ChannelReadyFuture.result\u001b[0;34m(self, timeout)\u001b[0m\n\u001b[1;32m    138\u001b[0m \u001b[39mdef\u001b[39;00m \u001b[39mresult\u001b[39m(\u001b[39mself\u001b[39m, timeout\u001b[39m=\u001b[39m\u001b[39mNone\u001b[39;00m):\n\u001b[0;32m--> 139\u001b[0m     \u001b[39mself\u001b[39;49m\u001b[39m.\u001b[39;49m_block(timeout)\n",
      "File \u001b[0;32m~/miniconda3/envs/fast/lib/python3.10/site-packages/grpc/_utilities.py:85\u001b[0m, in \u001b[0;36m_ChannelReadyFuture._block\u001b[0;34m(self, timeout)\u001b[0m\n\u001b[1;32m     84\u001b[0m \u001b[39mif\u001b[39;00m remaining \u001b[39m<\u001b[39m \u001b[39m0\u001b[39m:\n\u001b[0;32m---> 85\u001b[0m     \u001b[39mraise\u001b[39;00m grpc\u001b[39m.\u001b[39mFutureTimeoutError()\n\u001b[1;32m     86\u001b[0m \u001b[39melse\u001b[39;00m:\n",
      "\u001b[0;31mFutureTimeoutError\u001b[0m: ",
      "\nThe above exception was the direct cause of the following exception:\n",
      "\u001b[0;31mMilvusException\u001b[0m                           Traceback (most recent call last)",
      "\u001b[1;32m/Users/aswin/Documents/openai-cookbook/examples/vector_databases/zilliz/Getting_started_with_Zilliz_and_OpenAI.ipynb Cell 6\u001b[0m in \u001b[0;36m4\n\u001b[1;32m      <a href='vscode-notebook-cell:/Users/aswin/Documents/openai-cookbook/examples/vector_databases/zilliz/Getting_started_with_Zilliz_and_OpenAI.ipynb#W5sZmlsZQ%3D%3D?line=0'>1</a>\u001b[0m \u001b[39mfrom\u001b[39;00m \u001b[39mpymilvus\u001b[39;00m \u001b[39mimport\u001b[39;00m connections, utility, FieldSchema, Collection, CollectionSchema, DataType\n\u001b[1;32m      <a href='vscode-notebook-cell:/Users/aswin/Documents/openai-cookbook/examples/vector_databases/zilliz/Getting_started_with_Zilliz_and_OpenAI.ipynb#W5sZmlsZQ%3D%3D?line=2'>3</a>\u001b[0m \u001b[39m# Connect to Zilliz Database\u001b[39;00m\n\u001b[0;32m----> <a href='vscode-notebook-cell:/Users/aswin/Documents/openai-cookbook/examples/vector_databases/zilliz/Getting_started_with_Zilliz_and_OpenAI.ipynb#W5sZmlsZQ%3D%3D?line=3'>4</a>\u001b[0m connections\u001b[39m.\u001b[39;49mconnect(uri\u001b[39m=\u001b[39;49mURI, user\u001b[39m=\u001b[39;49mUSER, password\u001b[39m=\u001b[39;49mPASSWORD, secure\u001b[39m=\u001b[39;49m\u001b[39mTrue\u001b[39;49;00m)\n",
      "File \u001b[0;32m~/miniconda3/envs/fast/lib/python3.10/site-packages/pymilvus/orm/connections.py:303\u001b[0m, in \u001b[0;36mConnections.connect\u001b[0;34m(self, alias, user, password, **kwargs)\u001b[0m\n\u001b[1;32m    300\u001b[0m         \u001b[39mif\u001b[39;00m \u001b[39mself\u001b[39m\u001b[39m.\u001b[39m_alias[alias]\u001b[39m.\u001b[39mget(\u001b[39m\"\u001b[39m\u001b[39maddress\u001b[39m\u001b[39m\"\u001b[39m) \u001b[39m!=\u001b[39m in_addr:\n\u001b[1;32m    301\u001b[0m             \u001b[39mraise\u001b[39;00m ConnectionConfigException(message\u001b[39m=\u001b[39mExceptionsMessage\u001b[39m.\u001b[39mConnDiffConf \u001b[39m%\u001b[39m alias)\n\u001b[0;32m--> 303\u001b[0m     connect_milvus(\u001b[39m*\u001b[39;49m\u001b[39m*\u001b[39;49mkwargs, user\u001b[39m=\u001b[39;49muser, password\u001b[39m=\u001b[39;49mpassword)\n\u001b[1;32m    305\u001b[0m \u001b[39melse\u001b[39;00m:\n\u001b[1;32m    306\u001b[0m     \u001b[39mif\u001b[39;00m alias \u001b[39mnot\u001b[39;00m \u001b[39min\u001b[39;00m \u001b[39mself\u001b[39m\u001b[39m.\u001b[39m_alias:\n",
      "File \u001b[0;32m~/miniconda3/envs/fast/lib/python3.10/site-packages/pymilvus/orm/connections.py:274\u001b[0m, in \u001b[0;36mConnections.connect.<locals>.connect_milvus\u001b[0;34m(**kwargs)\u001b[0m\n\u001b[1;32m    271\u001b[0m t \u001b[39m=\u001b[39m kwargs\u001b[39m.\u001b[39mget(\u001b[39m\"\u001b[39m\u001b[39mtimeout\u001b[39m\u001b[39m\"\u001b[39m)\n\u001b[1;32m    272\u001b[0m timeout \u001b[39m=\u001b[39m t \u001b[39mif\u001b[39;00m \u001b[39misinstance\u001b[39m(t, (\u001b[39mint\u001b[39m, \u001b[39mfloat\u001b[39m)) \u001b[39melse\u001b[39;00m DefaultConfig\u001b[39m.\u001b[39mDEFAULT_CONNECT_TIMEOUT\n\u001b[0;32m--> 274\u001b[0m gh\u001b[39m.\u001b[39;49m_wait_for_channel_ready(timeout\u001b[39m=\u001b[39;49mtimeout)\n\u001b[1;32m    275\u001b[0m kwargs\u001b[39m.\u001b[39mpop(\u001b[39m'\u001b[39m\u001b[39mpassword\u001b[39m\u001b[39m'\u001b[39m)\n\u001b[1;32m    276\u001b[0m kwargs\u001b[39m.\u001b[39mpop(\u001b[39m'\u001b[39m\u001b[39msecure\u001b[39m\u001b[39m'\u001b[39m, \u001b[39mNone\u001b[39;00m)\n",
      "File \u001b[0;32m~/miniconda3/envs/fast/lib/python3.10/site-packages/pymilvus/client/grpc_handler.py:117\u001b[0m, in \u001b[0;36mGrpcHandler._wait_for_channel_ready\u001b[0;34m(self, timeout)\u001b[0m\n\u001b[1;32m    115\u001b[0m         \u001b[39mreturn\u001b[39;00m\n\u001b[1;32m    116\u001b[0m     \u001b[39mexcept\u001b[39;00m grpc\u001b[39m.\u001b[39mFutureTimeoutError \u001b[39mas\u001b[39;00m e:\n\u001b[0;32m--> 117\u001b[0m         \u001b[39mraise\u001b[39;00m MilvusException(Status\u001b[39m.\u001b[39mCONNECT_FAILED,\n\u001b[1;32m    118\u001b[0m                               \u001b[39mf\u001b[39m\u001b[39m'\u001b[39m\u001b[39mFail connecting to server on \u001b[39m\u001b[39m{\u001b[39;00m\u001b[39mself\u001b[39m\u001b[39m.\u001b[39m_address\u001b[39m}\u001b[39;00m\u001b[39m. Timeout\u001b[39m\u001b[39m'\u001b[39m) \u001b[39mfrom\u001b[39;00m \u001b[39me\u001b[39;00m\n\u001b[1;32m    120\u001b[0m \u001b[39mraise\u001b[39;00m MilvusException(Status\u001b[39m.\u001b[39mCONNECT_FAILED, \u001b[39m'\u001b[39m\u001b[39mNo channel in handler, please setup grpc channel first\u001b[39m\u001b[39m'\u001b[39m)\n",
      "\u001b[0;31mMilvusException\u001b[0m: <MilvusException: (code=2, message=Fail connecting to server on in01-ddd79bfa2d22447.aws-us-west-2.vectordb.zillizcloud.com:19542. Timeout)>"
     ]
    }
   ],
   "source": [
    "from pymilvus import connections, utility, FieldSchema, Collection, CollectionSchema, DataType\n",
    "\n",
    "# Connect to Zilliz Database\n",
    "connections.connect(uri=URI, user=USER, password=PASSWORD, secure=True)"
   ]
  },
  {
   "cell_type": "code",
   "execution_count": 4,
   "metadata": {},
   "outputs": [],
   "source": [
    "# Remove collection if it already exists\n",
    "if utility.has_collection(COLLECTION_NAME):\n",
    "    utility.drop_collection(COLLECTION_NAME)"
   ]
  },
  {
   "cell_type": "code",
   "execution_count": 5,
   "metadata": {},
   "outputs": [],
   "source": [
    "# Create collection which includes the id, title, and embedding.\n",
    "fields = [\n",
    "    FieldSchema(name='id', dtype=DataType.INT64, is_primary=True, auto_id=True),\n",
    "    FieldSchema(name='title', dtype=DataType.VARCHAR, max_length=64000),\n",
    "    FieldSchema(name='description', dtype=DataType.VARCHAR, max_length=64000),\n",
    "    FieldSchema(name='embedding', dtype=DataType.FLOAT_VECTOR, dim=DIMENSION)\n",
    "]\n",
    "schema = CollectionSchema(fields=fields)\n",
    "collection = Collection(name=COLLECTION_NAME, schema=schema)"
   ]
  },
  {
   "cell_type": "code",
   "execution_count": 6,
   "metadata": {},
   "outputs": [],
   "source": [
    "# Create the index on the collection and load it.\n",
    "collection.create_index(field_name=\"embedding\", index_params=INDEX_PARAM)\n",
    "collection.load()"
   ]
  },
  {
   "attachments": {},
   "cell_type": "markdown",
   "metadata": {},
   "source": [
    "## Dataset\n",
    "With Zilliz up and running we can begin grabbing our data. `Hugging Face Datasets` is a hub that holds many different user datasets, and for this example we are using Skelebor's book dataset. This dataset contains title-description pairs for over 1 million books. We are going to embed each description and store it within Zilliz along with its title."
   ]
  },
  {
   "cell_type": "code",
   "execution_count": 7,
   "metadata": {},
   "outputs": [
    {
     "name": "stderr",
     "output_type": "stream",
     "text": [
      "/Users/filiphaltmayer/miniconda3/envs/haystack/lib/python3.9/site-packages/tqdm/auto.py:22: TqdmWarning: IProgress not found. Please update jupyter and ipywidgets. See https://ipywidgets.readthedocs.io/en/stable/user_install.html\n",
      "  from .autonotebook import tqdm as notebook_tqdm\n",
      "Found cached dataset parquet (/Users/filiphaltmayer/.cache/huggingface/datasets/Skelebor___parquet/Skelebor--book_titles_and_descriptions_en_clean-3596935b1d8a7747/0.0.0/2a3b91fbd88a2c90d1dbbb32b460cf621d31bd5b05b934492fdef7d8d6f236ec)\n"
     ]
    }
   ],
   "source": [
    "import datasets\n",
    "\n",
    "# Download the dataset and only use the `train` portion (file is around 800Mb)\n",
    "dataset = datasets.load_dataset('Skelebor/book_titles_and_descriptions_en_clean', split='train')"
   ]
  },
  {
   "attachments": {},
   "cell_type": "markdown",
   "metadata": {},
   "source": [
    "## Insert the Data\n",
    "Now that we have our data on our machine we can begin embedding it and inserting it into Zilliz. The embedding function takes in text and returns the embeddings in a list format."
   ]
  },
  {
   "cell_type": "code",
   "execution_count": 8,
   "metadata": {},
   "outputs": [],
   "source": [
    "# Simple function that converts the texts to embeddings\n",
    "def embed(texts):\n",
    "    embeddings = openai.Embedding.create(\n",
    "        input=texts,\n",
    "        engine=OPENAI_ENGINE\n",
    "    )\n",
    "    return [x['embedding'] for x in embeddings['data']]\n"
   ]
  },
  {
   "attachments": {},
   "cell_type": "markdown",
   "metadata": {},
   "source": [
    "This next step does the actual inserting. Due to having so many datapoints, if you want to immediately test it out you can stop the inserting cell block early and move along. Doing this will probably decrease the accuracy of the results due to less datapoints, but it should still be good enough."
   ]
  },
  {
   "cell_type": "code",
   "execution_count": 10,
   "metadata": {},
   "outputs": [
    {
     "name": "stderr",
     "output_type": "stream",
     "text": [
      "  0%|          | 2999/1032335 [00:19<1:49:30, 156.66it/s]\n"
     ]
    },
    {
     "ename": "KeyboardInterrupt",
     "evalue": "",
     "output_type": "error",
     "traceback": [
      "\u001b[0;31m---------------------------------------------------------------------------\u001b[0m",
      "\u001b[0;31mKeyboardInterrupt\u001b[0m                         Traceback (most recent call last)",
      "Cell \u001b[0;32mIn[10], line 14\u001b[0m\n\u001b[1;32m     12\u001b[0m     \u001b[39mif\u001b[39;00m \u001b[39mlen\u001b[39m(data[\u001b[39m0\u001b[39m]) \u001b[39m%\u001b[39m BATCH_SIZE \u001b[39m==\u001b[39m \u001b[39m0\u001b[39m:\n\u001b[1;32m     13\u001b[0m         data\u001b[39m.\u001b[39mappend(embed(data[\u001b[39m1\u001b[39m]))\n\u001b[0;32m---> 14\u001b[0m         collection\u001b[39m.\u001b[39;49minsert(data)\n\u001b[1;32m     15\u001b[0m         data \u001b[39m=\u001b[39m [[],[]]\n\u001b[1;32m     17\u001b[0m \u001b[39m# Embed and insert the remainder \u001b[39;00m\n",
      "File \u001b[0;32m~/miniconda3/envs/haystack/lib/python3.9/site-packages/pymilvus/orm/collection.py:430\u001b[0m, in \u001b[0;36mCollection.insert\u001b[0;34m(self, data, partition_name, timeout, **kwargs)\u001b[0m\n\u001b[1;32m    427\u001b[0m entities \u001b[39m=\u001b[39m Prepare\u001b[39m.\u001b[39mprepare_insert_data(data, \u001b[39mself\u001b[39m\u001b[39m.\u001b[39m_schema)\n\u001b[1;32m    429\u001b[0m conn \u001b[39m=\u001b[39m \u001b[39mself\u001b[39m\u001b[39m.\u001b[39m_get_connection()\n\u001b[0;32m--> 430\u001b[0m res \u001b[39m=\u001b[39m conn\u001b[39m.\u001b[39;49mbatch_insert(\u001b[39mself\u001b[39;49m\u001b[39m.\u001b[39;49m_name, entities, partition_name,\n\u001b[1;32m    431\u001b[0m                         timeout\u001b[39m=\u001b[39;49mtimeout, schema\u001b[39m=\u001b[39;49m\u001b[39mself\u001b[39;49m\u001b[39m.\u001b[39;49m_schema_dict, \u001b[39m*\u001b[39;49m\u001b[39m*\u001b[39;49mkwargs)\n\u001b[1;32m    433\u001b[0m \u001b[39mif\u001b[39;00m kwargs\u001b[39m.\u001b[39mget(\u001b[39m\"\u001b[39m\u001b[39m_async\u001b[39m\u001b[39m\"\u001b[39m, \u001b[39mFalse\u001b[39;00m):\n\u001b[1;32m    434\u001b[0m     \u001b[39mreturn\u001b[39;00m MutationFuture(res)\n",
      "File \u001b[0;32m~/miniconda3/envs/haystack/lib/python3.9/site-packages/pymilvus/decorators.py:105\u001b[0m, in \u001b[0;36merror_handler.<locals>.wrapper.<locals>.handler\u001b[0;34m(*args, **kwargs)\u001b[0m\n\u001b[1;32m    103\u001b[0m \u001b[39mtry\u001b[39;00m:\n\u001b[1;32m    104\u001b[0m     record_dict[\u001b[39m\"\u001b[39m\u001b[39mRPC start\u001b[39m\u001b[39m\"\u001b[39m] \u001b[39m=\u001b[39m \u001b[39mstr\u001b[39m(datetime\u001b[39m.\u001b[39mdatetime\u001b[39m.\u001b[39mnow())\n\u001b[0;32m--> 105\u001b[0m     \u001b[39mreturn\u001b[39;00m func(\u001b[39m*\u001b[39;49margs, \u001b[39m*\u001b[39;49m\u001b[39m*\u001b[39;49mkwargs)\n\u001b[1;32m    106\u001b[0m \u001b[39mexcept\u001b[39;00m MilvusException \u001b[39mas\u001b[39;00m e:\n\u001b[1;32m    107\u001b[0m     record_dict[\u001b[39m\"\u001b[39m\u001b[39mRPC error\u001b[39m\u001b[39m\"\u001b[39m] \u001b[39m=\u001b[39m \u001b[39mstr\u001b[39m(datetime\u001b[39m.\u001b[39mdatetime\u001b[39m.\u001b[39mnow())\n",
      "File \u001b[0;32m~/miniconda3/envs/haystack/lib/python3.9/site-packages/pymilvus/decorators.py:136\u001b[0m, in \u001b[0;36mtracing_request.<locals>.wrapper.<locals>.handler\u001b[0;34m(self, *args, **kwargs)\u001b[0m\n\u001b[1;32m    134\u001b[0m \u001b[39mif\u001b[39;00m req_id:\n\u001b[1;32m    135\u001b[0m     \u001b[39mself\u001b[39m\u001b[39m.\u001b[39mset_onetime_request_id(req_id)\n\u001b[0;32m--> 136\u001b[0m ret \u001b[39m=\u001b[39m func(\u001b[39mself\u001b[39;49m, \u001b[39m*\u001b[39;49margs, \u001b[39m*\u001b[39;49m\u001b[39m*\u001b[39;49mkwargs)\n\u001b[1;32m    137\u001b[0m \u001b[39mreturn\u001b[39;00m ret\n",
      "File \u001b[0;32m~/miniconda3/envs/haystack/lib/python3.9/site-packages/pymilvus/decorators.py:50\u001b[0m, in \u001b[0;36mretry_on_rpc_failure.<locals>.wrapper.<locals>.handler\u001b[0;34m(self, *args, **kwargs)\u001b[0m\n\u001b[1;32m     48\u001b[0m \u001b[39mwhile\u001b[39;00m \u001b[39mTrue\u001b[39;00m:\n\u001b[1;32m     49\u001b[0m     \u001b[39mtry\u001b[39;00m:\n\u001b[0;32m---> 50\u001b[0m         \u001b[39mreturn\u001b[39;00m func(\u001b[39mself\u001b[39;49m, \u001b[39m*\u001b[39;49margs, \u001b[39m*\u001b[39;49m\u001b[39m*\u001b[39;49mkwargs)\n\u001b[1;32m     51\u001b[0m     \u001b[39mexcept\u001b[39;00m grpc\u001b[39m.\u001b[39mRpcError \u001b[39mas\u001b[39;00m e:\n\u001b[1;32m     52\u001b[0m         \u001b[39m# DEADLINE_EXCEEDED means that the task wat not completed\u001b[39;00m\n\u001b[1;32m     53\u001b[0m         \u001b[39m# UNAVAILABLE means that the service is not reachable currently\u001b[39;00m\n\u001b[1;32m     54\u001b[0m         \u001b[39m# Reference: https://grpc.github.io/grpc/python/grpc.html#grpc-status-code\u001b[39;00m\n\u001b[1;32m     55\u001b[0m         \u001b[39mif\u001b[39;00m e\u001b[39m.\u001b[39mcode() \u001b[39m!=\u001b[39m grpc\u001b[39m.\u001b[39mStatusCode\u001b[39m.\u001b[39mDEADLINE_EXCEEDED \u001b[39mand\u001b[39;00m e\u001b[39m.\u001b[39mcode() \u001b[39m!=\u001b[39m grpc\u001b[39m.\u001b[39mStatusCode\u001b[39m.\u001b[39mUNAVAILABLE:\n",
      "File \u001b[0;32m~/miniconda3/envs/haystack/lib/python3.9/site-packages/pymilvus/client/grpc_handler.py:378\u001b[0m, in \u001b[0;36mGrpcHandler.batch_insert\u001b[0;34m(self, collection_name, entities, partition_name, timeout, **kwargs)\u001b[0m\n\u001b[1;32m    375\u001b[0m     f\u001b[39m.\u001b[39madd_callback(ts_utils\u001b[39m.\u001b[39mupdate_ts_on_mutation(collection_name))\n\u001b[1;32m    376\u001b[0m     \u001b[39mreturn\u001b[39;00m f\n\u001b[0;32m--> 378\u001b[0m response \u001b[39m=\u001b[39m rf\u001b[39m.\u001b[39;49mresult()\n\u001b[1;32m    379\u001b[0m \u001b[39mif\u001b[39;00m response\u001b[39m.\u001b[39mstatus\u001b[39m.\u001b[39merror_code \u001b[39m==\u001b[39m \u001b[39m0\u001b[39m:\n\u001b[1;32m    380\u001b[0m     m \u001b[39m=\u001b[39m MutationResult(response)\n",
      "File \u001b[0;32m~/miniconda3/envs/haystack/lib/python3.9/site-packages/grpc/_channel.py:733\u001b[0m, in \u001b[0;36m_MultiThreadedRendezvous.result\u001b[0;34m(self, timeout)\u001b[0m\n\u001b[1;32m    728\u001b[0m \u001b[39m\u001b[39m\u001b[39m\"\"\"Returns the result of the computation or raises its exception.\u001b[39;00m\n\u001b[1;32m    729\u001b[0m \n\u001b[1;32m    730\u001b[0m \u001b[39mSee grpc.Future.result for the full API contract.\u001b[39;00m\n\u001b[1;32m    731\u001b[0m \u001b[39m\"\"\"\u001b[39;00m\n\u001b[1;32m    732\u001b[0m \u001b[39mwith\u001b[39;00m \u001b[39mself\u001b[39m\u001b[39m.\u001b[39m_state\u001b[39m.\u001b[39mcondition:\n\u001b[0;32m--> 733\u001b[0m     timed_out \u001b[39m=\u001b[39m _common\u001b[39m.\u001b[39;49mwait(\u001b[39mself\u001b[39;49m\u001b[39m.\u001b[39;49m_state\u001b[39m.\u001b[39;49mcondition\u001b[39m.\u001b[39;49mwait,\n\u001b[1;32m    734\u001b[0m                              \u001b[39mself\u001b[39;49m\u001b[39m.\u001b[39;49m_is_complete,\n\u001b[1;32m    735\u001b[0m                              timeout\u001b[39m=\u001b[39;49mtimeout)\n\u001b[1;32m    736\u001b[0m     \u001b[39mif\u001b[39;00m timed_out:\n\u001b[1;32m    737\u001b[0m         \u001b[39mraise\u001b[39;00m grpc\u001b[39m.\u001b[39mFutureTimeoutError()\n",
      "File \u001b[0;32m~/miniconda3/envs/haystack/lib/python3.9/site-packages/grpc/_common.py:141\u001b[0m, in \u001b[0;36mwait\u001b[0;34m(wait_fn, wait_complete_fn, timeout, spin_cb)\u001b[0m\n\u001b[1;32m    139\u001b[0m \u001b[39mif\u001b[39;00m timeout \u001b[39mis\u001b[39;00m \u001b[39mNone\u001b[39;00m:\n\u001b[1;32m    140\u001b[0m     \u001b[39mwhile\u001b[39;00m \u001b[39mnot\u001b[39;00m wait_complete_fn():\n\u001b[0;32m--> 141\u001b[0m         _wait_once(wait_fn, MAXIMUM_WAIT_TIMEOUT, spin_cb)\n\u001b[1;32m    142\u001b[0m \u001b[39melse\u001b[39;00m:\n\u001b[1;32m    143\u001b[0m     end \u001b[39m=\u001b[39m time\u001b[39m.\u001b[39mtime() \u001b[39m+\u001b[39m timeout\n",
      "File \u001b[0;32m~/miniconda3/envs/haystack/lib/python3.9/site-packages/grpc/_common.py:106\u001b[0m, in \u001b[0;36m_wait_once\u001b[0;34m(wait_fn, timeout, spin_cb)\u001b[0m\n\u001b[1;32m    105\u001b[0m \u001b[39mdef\u001b[39;00m \u001b[39m_wait_once\u001b[39m(wait_fn, timeout, spin_cb):\n\u001b[0;32m--> 106\u001b[0m     wait_fn(timeout\u001b[39m=\u001b[39;49mtimeout)\n\u001b[1;32m    107\u001b[0m     \u001b[39mif\u001b[39;00m spin_cb \u001b[39mis\u001b[39;00m \u001b[39mnot\u001b[39;00m \u001b[39mNone\u001b[39;00m:\n\u001b[1;32m    108\u001b[0m         spin_cb()\n",
      "File \u001b[0;32m~/miniconda3/envs/haystack/lib/python3.9/threading.py:316\u001b[0m, in \u001b[0;36mCondition.wait\u001b[0;34m(self, timeout)\u001b[0m\n\u001b[1;32m    314\u001b[0m \u001b[39melse\u001b[39;00m:\n\u001b[1;32m    315\u001b[0m     \u001b[39mif\u001b[39;00m timeout \u001b[39m>\u001b[39m \u001b[39m0\u001b[39m:\n\u001b[0;32m--> 316\u001b[0m         gotit \u001b[39m=\u001b[39m waiter\u001b[39m.\u001b[39;49macquire(\u001b[39mTrue\u001b[39;49;00m, timeout)\n\u001b[1;32m    317\u001b[0m     \u001b[39melse\u001b[39;00m:\n\u001b[1;32m    318\u001b[0m         gotit \u001b[39m=\u001b[39m waiter\u001b[39m.\u001b[39macquire(\u001b[39mFalse\u001b[39;00m)\n",
      "\u001b[0;31mKeyboardInterrupt\u001b[0m: "
     ]
    }
   ],
   "source": [
    "from tqdm import tqdm\n",
    "\n",
    "data = [\n",
    "    [], # title\n",
    "    [], # description\n",
    "]\n",
    "\n",
    "# Embed and insert in batches\n",
    "for i in tqdm(range(0, len(dataset))):\n",
    "    data[0].append(dataset[i]['title'])\n",
    "    data[1].append(dataset[i]['description'])\n",
    "    if len(data[0]) % BATCH_SIZE == 0:\n",
    "        data.append(embed(data[1]))\n",
    "        collection.insert(data)\n",
    "        data = [[],[]]\n",
    "\n",
    "# Embed and insert the remainder \n",
    "if len(data[0]) != 0:\n",
    "    data.append(embed(data[1]))\n",
    "    collection.insert(data)\n",
    "    data = [[],[]]\n"
   ]
  },
  {
   "attachments": {},
   "cell_type": "markdown",
   "metadata": {},
   "source": [
    "## Query the Database\n",
    "With our data safely inserted in Zilliz, we can now perform a query. The query takes in a string or a list of strings and searches them. The results print out your provided description and the results that include the result score, the result title, and the result book description."
   ]
  },
  {
   "cell_type": "code",
   "execution_count": 11,
   "metadata": {},
   "outputs": [],
   "source": [
    "import textwrap\n",
    "\n",
    "def query(queries, top_k = 5):\n",
    "    if type(queries) != list:\n",
    "        queries = [queries]\n",
    "    res = collection.search(embed(queries), anns_field='embedding', param=QUERY_PARAM, limit = top_k, output_fields=['title', 'description'])\n",
    "    for i, hit in enumerate(res):\n",
    "        print('Description:', queries[i])\n",
    "        print('Results:')\n",
    "        for ii, hits in enumerate(hit):\n",
    "            print('\\t' + 'Rank:', ii + 1, 'Score:', hits.score, 'Title:', hits.entity.get('title'))\n",
    "            print(textwrap.fill(hits.entity.get('description'), 88))\n",
    "            print()"
   ]
  },
  {
   "cell_type": "code",
   "execution_count": 12,
   "metadata": {},
   "outputs": [
    {
     "name": "stdout",
     "output_type": "stream",
     "text": [
      "Description: Book about a k-9 from europe\n",
      "Results:\n",
      "\tRank: 1 Score: 0.3047754764556885 Title: Bark M For Murder\n",
      "Who let the dogs out? Evildoers beware! Four of mystery fiction's top storytellers are\n",
      "setting the hounds on your trail -- in an incomparable quartet of crime stories with a\n",
      "canine edge. Man's (and woman's) best friends take the lead in this phenomenal\n",
      "collection of tales tense and surprising, humorous and thrilling: New York\n",
      "Timesbestselling author J.A. Jance's spellbinding saga of a scam-busting septuagenarian\n",
      "and her two golden retrievers; Anthony Award winner Virginia Lanier's pureblood thriller\n",
      "featuring bloodhounds and bloody murder; Chassie West's suspenseful stunner about a\n",
      "life-saving German shepherd and a ghastly forgotten crime; rising star Lee Charles\n",
      "Kelley's edge-of-your-seat yarn that pits an ex-cop/kennel owner and a yappy toy poodle\n",
      "against a craven killer.\n",
      "\n",
      "\tRank: 2 Score: 0.3283390402793884 Title: Texas K-9 Unit Christmas: Holiday Hero\\Rescuing Christmas\n",
      "CHRISTMAS COMES WRAPPED IN DANGER Holiday Hero by Shirlee McCoy Emma Fairchild never\n",
      "expected to find trouble in sleepy Sagebrush, Texas. But when she's attacked and left\n",
      "for dead in her own diner, her childhood friend turned K-9 cop Lucas Harwood offers a\n",
      "chance at justice--and love. Rescuing Christmas by Terri Reed She escaped a kidnapper,\n",
      "but now a killer has set his sights on K-9 dog trainer Lily Anderson. When fellow\n",
      "officer Jarrod Evans appoints himself her bodyguard, Lily knows more than her life is at\n",
      "risk--so is her heart. Texas K-9 Unit: These lawmen solve the toughest cases with the\n",
      "help of their brave canine partners\n",
      "\n",
      "\tRank: 3 Score: 0.33899369835853577 Title: Dogs on Duty: Soldiers' Best Friends on the Battlefield and Beyond\n",
      "When the news of the raid on Osama Bin Laden's compound broke, the SEAL team member that\n",
      "stole the show was a highly trained canine companion. Throughout history, dogs have been\n",
      "key contributors to military units. Dorothy Hinshaw Patent follows man's best friend\n",
      "onto the battlefield, showing readers why dogs are uniquely qualified for the job at\n",
      "hand, how they are trained, how they contribute to missions, and what happens when they\n",
      "retire. With full-color photographs throughout and sidebars featuring heroic canines\n",
      "throughout history, Dogs on Duty provides a fascinating look at these exceptional\n",
      "soldiers and companions.\n",
      "\n",
      "\tRank: 4 Score: 0.34207457304000854 Title: Toute Allure: Falling in Love in Rural France\n",
      "After saying goodbye to life as a successful fashion editor in London, Karen Wheeler is\n",
      "now happy in her small village house in rural France. Her idyll is complete when she\n",
      "meets the love of her life - he has shaggy hair, four paws and a wet nose!\n",
      "\n",
      "\tRank: 5 Score: 0.343595951795578 Title: Otherwise Alone (Evan Arden, #1)\n",
      "Librarian's note: This is an alternate cover edition for ASIN: B00AP5NNWC. Lieutenant\n",
      "Evan Arden sits in a shack in the middle of nowhere, waiting for orders that will send\n",
      "him back home - if he ever gets them. Other than his loyal Great Pyrenees, there's no\n",
      "one around to break up the monotony. The tedium is excruciating, but it is suddenly\n",
      "interrupted when a young woman stumbles up his path. \"It's only 50-something pages, but\n",
      "in that short amount of time, the author's awesome writing packs in a whole lotta\n",
      "character detail. And sets the stage for the series, perfectly.\" -Maryse.net, 4.5 Stars\n",
      "He has two choices - pick her off from a distance with his trusty sniper-rifle, or dare\n",
      "let her approach his cabin and enter his life. Why not? It's been ages, and he is\n",
      "otherwise alone...\n",
      "\n"
     ]
    }
   ],
   "source": [
    "query('Book about a k-9 from europe')"
   ]
  }
 ],
 "metadata": {
  "kernelspec": {
   "display_name": "haystack",
   "language": "python",
   "name": "python3"
  },
  "language_info": {
   "codemirror_mode": {
    "name": "ipython",
    "version": 3
   },
   "file_extension": ".py",
   "mimetype": "text/x-python",
   "name": "python",
   "nbconvert_exporter": "python",
   "pygments_lexer": "ipython3",
   "version": "3.10.8"
  },
  "orig_nbformat": 4
 },
 "nbformat": 4,
 "nbformat_minor": 2
}
